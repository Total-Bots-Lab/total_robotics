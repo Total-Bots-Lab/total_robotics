{
 "cells": [
  {
   "cell_type": "code",
   "execution_count": 1,
   "id": "b923ee90-dc66-4ea5-a1ef-789e70f12c2c",
   "metadata": {},
   "outputs": [
    {
     "name": "stdout",
     "output_type": "stream",
     "text": [
      "Genesis version: 0.2.1\n"
     ]
    }
   ],
   "source": [
    "# Checking if the installation of Genesis was completed. There should be no errors when the following cell is executed.  \n",
    "import genesis\n",
    "print(\"Genesis version:\", genesis.__version__)"
   ]
  },
  {
   "cell_type": "code",
   "execution_count": 2,
   "id": "38934f23-ca8d-465b-8a38-5925f55eceac",
   "metadata": {},
   "outputs": [
    {
     "name": "stdout",
     "output_type": "stream",
     "text": [
      "PyTorch version: 2.5.1\n",
      "CUDA available: False\n",
      "Using device: CPU\n"
     ]
    }
   ],
   "source": [
    "# Checking the status of PyTorch installation. There should be no errors when the following cell is executed.\n",
    "# The device information will also be shown\n",
    "import torch\n",
    "print(\"PyTorch version:\", torch.__version__)\n",
    "print(\"CUDA available:\", torch.cuda.is_available())\n",
    "print(\"Using device:\", \"GPU\" if torch.cuda.is_available() else \"CPU\")"
   ]
  }
 ],
 "metadata": {
  "kernelspec": {
   "display_name": "Python 3 (ipykernel)",
   "language": "python",
   "name": "python3"
  },
  "language_info": {
   "codemirror_mode": {
    "name": "ipython",
    "version": 3
   },
   "file_extension": ".py",
   "mimetype": "text/x-python",
   "name": "python",
   "nbconvert_exporter": "python",
   "pygments_lexer": "ipython3",
   "version": "3.10.16"
  }
 },
 "nbformat": 4,
 "nbformat_minor": 5
}
