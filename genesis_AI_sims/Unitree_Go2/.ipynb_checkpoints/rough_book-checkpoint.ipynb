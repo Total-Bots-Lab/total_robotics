{
 "cells": [
  {
   "cell_type": "code",
   "execution_count": 6,
   "id": "571c18de-510e-46e7-bd77-a299accf2b2c",
   "metadata": {},
   "outputs": [
    {
     "name": "stdout",
     "output_type": "stream",
     "text": [
      "[-0.5 -1.  -2.  -0.5 -1.  -2.  -0.5 -1.  -2.  -0.5 -1.  -2. ]\n",
      "[0.5 2.  0.  0.5 2.  0.  0.5 2.  0.  0.5 2.  0. ]\n"
     ]
    }
   ],
   "source": [
    "# Box action space\n",
    "import numpy as np\n",
    "import gymnasium as gym\n",
    "\n",
    "\n",
    "'Lower limits for joint positions.'\n",
    "lower_limit_actions = np.array([-0.5, -1.0, -2.0,\n",
    "                                -0.5, -1.0, -2.0,\n",
    "                                -0.5, -1.0, -2.0,\n",
    "                                -0.5, -1.0, -2.0], dtype=np.float32)\n",
    "\n",
    "'Upper limits for joint positions.'\n",
    "upper_limit_actions = np.array([0.5,  2.0,  0.0,\n",
    "                                0.5,  2.0,  0.0,\n",
    "                                0.5,  2.0,  0.0,\n",
    "                                0.5,  2.0,  0.0], dtype=np.float32)\n",
    "\n",
    "'Defining the action space.'\n",
    "action_space = gym.spaces.Box(low=lower_limit_actions,\n",
    "                              high=upper_limit_actions,\n",
    "                              dtype=np.float32)\n",
    "\n",
    "print(action_space.low)\n",
    "print(action_space.high)"
   ]
  },
  {
   "cell_type": "code",
   "execution_count": 1,
   "id": "14e97231-8445-4ca6-a8ea-8a368bfac880",
   "metadata": {},
   "outputs": [
    {
     "name": "stdout",
     "output_type": "stream",
     "text": [
      "\u001b[38;5;159m[Genesis] [22:03:12] [INFO] \u001b[38;5;121m╭─────────────────────────────────────────────────────────────────────────────────────╮\u001b[0m\u001b[38;5;159m\u001b[0m\n",
      "\u001b[38;5;159m[Genesis] [22:03:12] [INFO] \u001b[38;5;121m│┈┉┈┉┈┉┈┉┈┉┈┉┈┉┈┉┈┉┈┉┈┉┈┉┈┉┈┉┈┉┈┉┈┉┈┉┈┉\u001b[0m\u001b[38;5;159m \u001b[38;5;121m\u001b[1m\u001b[3mGenesis\u001b[0m\u001b[38;5;159m \u001b[38;5;121m┈┉┈┉┈┉┈┉┈┉┈┉┈┉┈┉┈┉┈┉┈┉┈┉┈┉┈┉┈┉┈┉┈┉┈┉┈┉│\u001b[0m\u001b[38;5;159m\u001b[0m\n",
      "\u001b[38;5;159m[Genesis] [22:03:12] [INFO] \u001b[38;5;121m╰─────────────────────────────────────────────────────────────────────────────────────╯\u001b[0m\u001b[38;5;159m\u001b[0m\n",
      "\u001b[38;5;159m[Genesis] [22:03:14] [INFO] Running on \u001b[38;5;121m\u001b[4m[Intel(R) Core(TM) i7-8565U CPU @ 1.80GHz]\u001b[0m\u001b[38;5;159m with backend \u001b[38;5;121m\u001b[4mgs.cpu\u001b[0m\u001b[38;5;159m. Device memory: \u001b[38;5;121m\u001b[4m15.78\u001b[0m\u001b[38;5;159m GB.\u001b[0m\n",
      "\u001b[38;5;159m[Genesis] [22:03:14] [INFO] 🚀 Genesis initialized. 🔖 version: \u001b[38;5;121m\u001b[4m0.2.1\u001b[0m\u001b[38;5;159m, 🌱 seed: \u001b[38;5;121m\u001b[4mNone\u001b[0m\u001b[38;5;159m, 📏 precision: '\u001b[38;5;121m\u001b[4m32\u001b[0m\u001b[38;5;159m', 🐛 debug: \u001b[38;5;121m\u001b[4mFalse\u001b[0m\u001b[38;5;159m, 🎨 theme: '\u001b[38;5;121m\u001b[4mdark\u001b[0m\u001b[38;5;159m'.\u001b[0m\n",
      "\u001b[38;5;159m[Genesis] [22:03:15] [INFO] Scene \u001b[38;5;121m\u001b[3m<2251176>\u001b[0m\u001b[38;5;159m created.\u001b[0m\n",
      "\u001b[38;5;159m[Genesis] [22:03:15] [INFO] Adding \u001b[38;5;121m<gs.RigidEntity>\u001b[0m\u001b[38;5;159m. idx: \u001b[38;5;121m0\u001b[0m\u001b[38;5;159m, uid: \u001b[38;5;121m\u001b[3m<47f8cf1>\u001b[0m\u001b[38;5;159m, morph: \u001b[38;5;121m<gs.morphs.Plane>\u001b[0m\u001b[38;5;159m, material: \u001b[38;5;121m<gs.materials.Rigid>\u001b[0m\u001b[38;5;159m.\u001b[0m\n",
      "\u001b[38;5;159m[Genesis] [22:03:15] [INFO] Adding \u001b[38;5;121m<gs.RigidEntity>\u001b[0m\u001b[38;5;159m. idx: \u001b[38;5;121m1\u001b[0m\u001b[38;5;159m, uid: \u001b[38;5;121m\u001b[3m<40ac54c>\u001b[0m\u001b[38;5;159m, morph: \u001b[38;5;121m<gs.morphs.MJCF(file='C:\\Users\\ritwi\\Genesis\\genesis\\assets\\xml/franka_emika_panda/panda.xml')>\u001b[0m\u001b[38;5;159m, material: \u001b[38;5;121m<gs.materials.Rigid>\u001b[0m\u001b[38;5;159m.\u001b[0m\n",
      "\u001b[38;5;226m[Genesis] [22:03:17] [WARNING] (MJCF) Tendon not supported\u001b[0m\n",
      "\u001b[38;5;226m[Genesis] [22:03:17] [WARNING] (MJCF) Approximating tendon by joint actuator for `finger_joint1`\u001b[0m\n",
      "\u001b[38;5;226m[Genesis] [22:03:17] [WARNING] (MJCF) Actuator control gain and bias parameters cannot be reduced to a unique PD control position gain. Using max between gain and bias.\u001b[0m\n",
      "\u001b[38;5;226m[Genesis] [22:03:17] [WARNING] (MJCF) Approximating tendon by joint actuator for `finger_joint2`\u001b[0m\n",
      "\u001b[38;5;226m[Genesis] [22:03:17] [WARNING] (MJCF) Actuator control gain and bias parameters cannot be reduced to a unique PD control position gain. Using max between gain and bias.\u001b[0m\n",
      "\u001b[38;5;159m[Genesis] [22:03:17] [INFO] Building scene \u001b[38;5;121m\u001b[3m<2251176>\u001b[0m\u001b[38;5;159m...\u001b[0m\n",
      "\u001b[38;5;226m[Genesis] [22:03:20] [WARNING] Reference robot position exceeds joint limits.\u001b[0m\n",
      "\u001b[38;5;226m[Genesis] [22:03:20] [WARNING] Constraint solver time constant was increased to avoid numerical instability (from `0.005` to `0.02`). Decrease simulation timestep to avoid altering the original value.\u001b[0m\n",
      "\u001b[38;5;159m[Genesis] [22:03:28] [INFO] Compiling simulation kernels...\u001b[0m\n",
      "\u001b[38;5;159m[Genesis] [22:03:56] [INFO] Building visualizer...\u001b[0m\n",
      "\u001b[38;5;159m[Genesis] [22:04:02] [INFO] Viewer created. Resolution: \u001b[38;5;121m900×675\u001b[0m\u001b[38;5;159m, max_FPS: \u001b[38;5;121m60\u001b[0m\u001b[38;5;159m.\u001b[0m\n",
      "\u001b[38;5;226m[Genesis] [22:04:02] [WARNING] This property is deprecated and will be removed in future release. Please use 'dof_idx_local' instead.\u001b[0m\n",
      "\u001b[38;5;226m[Genesis] [22:04:02] [WARNING] This property is deprecated and will be removed in future release. Please use 'dof_idx_local' instead.\u001b[0m\n",
      "\u001b[38;5;226m[Genesis] [22:04:02] [WARNING] This property is deprecated and will be removed in future release. Please use 'dof_idx_local' instead.\u001b[0m\n",
      "\u001b[38;5;226m[Genesis] [22:04:02] [WARNING] This property is deprecated and will be removed in future release. Please use 'dof_idx_local' instead.\u001b[0m\n",
      "\u001b[38;5;226m[Genesis] [22:04:02] [WARNING] This property is deprecated and will be removed in future release. Please use 'dof_idx_local' instead.\u001b[0m\n",
      "\u001b[38;5;226m[Genesis] [22:04:02] [WARNING] This property is deprecated and will be removed in future release. Please use 'dof_idx_local' instead.\u001b[0m\n",
      "\u001b[38;5;226m[Genesis] [22:04:02] [WARNING] This property is deprecated and will be removed in future release. Please use 'dof_idx_local' instead.\u001b[0m\n",
      "\u001b[38;5;226m[Genesis] [22:04:02] [WARNING] This property is deprecated and will be removed in future release. Please use 'dof_idx_local' instead.\u001b[0m\n",
      "\u001b[38;5;226m[Genesis] [22:04:02] [WARNING] This property is deprecated and will be removed in future release. Please use 'dof_idx_local' instead.\u001b[0m\n"
     ]
    },
    {
     "data": {
      "text/plain": [
       "[0, 1, 2, 3, 4, 5, 6, 7, 8]"
      ]
     },
     "execution_count": 1,
     "metadata": {},
     "output_type": "execute_result"
    }
   ],
   "source": [
    "# Figuring out the interface to the joints Franka\n",
    "import genesis as gs\n",
    "\n",
    "#Initializes Genesis with the CPU backend.\n",
    "gs.init(backend=gs.cpu)\n",
    "\n",
    "scene = gs.Scene(show_viewer=True)\n",
    "\n",
    "#Adds a flat ground plane to the scene.\n",
    "scene.add_entity(gs.morphs.Plane())\n",
    "\n",
    "\n",
    "#Integrate the Franka Robot xml.\n",
    "robot = gs.morphs.MJCF(file='xml/franka_emika_panda/panda.xml')\n",
    "\n",
    "#Add an entity to the scene.\n",
    "franka = scene.add_entity(robot)\n",
    "\n",
    "#Builds the scene.\n",
    "scene.build()\n",
    "\n",
    "# Getting the joint Info Franka\n",
    "jnt_names = [\n",
    "    'joint1',\n",
    "    'joint2',\n",
    "    'joint3',\n",
    "    'joint4',\n",
    "    'joint5',\n",
    "    'joint6',\n",
    "    'joint7',\n",
    "    'finger_joint1',\n",
    "    'finger_joint2',\n",
    "]\n",
    "dofs_idx = [franka.get_joint(name).dof_idx_local for name in jnt_names]\n",
    "dofs_idx"
   ]
  },
  {
   "cell_type": "code",
   "execution_count": 1,
   "id": "6e0570bc-3c30-47fc-8a6f-5ad9a5426351",
   "metadata": {},
   "outputs": [
    {
     "name": "stdout",
     "output_type": "stream",
     "text": [
      "\u001b[38;5;159m[Genesis] [22:12:44] [INFO] \u001b[38;5;121m╭─────────────────────────────────────────────────────────────────────────────────────╮\u001b[0m\u001b[38;5;159m\u001b[0m\n",
      "\u001b[38;5;159m[Genesis] [22:12:44] [INFO] \u001b[38;5;121m│┈┉┈┉┈┉┈┉┈┉┈┉┈┉┈┉┈┉┈┉┈┉┈┉┈┉┈┉┈┉┈┉┈┉┈┉┈┉\u001b[0m\u001b[38;5;159m \u001b[38;5;121m\u001b[1m\u001b[3mGenesis\u001b[0m\u001b[38;5;159m \u001b[38;5;121m┈┉┈┉┈┉┈┉┈┉┈┉┈┉┈┉┈┉┈┉┈┉┈┉┈┉┈┉┈┉┈┉┈┉┈┉┈┉│\u001b[0m\u001b[38;5;159m\u001b[0m\n",
      "\u001b[38;5;159m[Genesis] [22:12:44] [INFO] \u001b[38;5;121m╰─────────────────────────────────────────────────────────────────────────────────────╯\u001b[0m\u001b[38;5;159m\u001b[0m\n",
      "\u001b[38;5;159m[Genesis] [22:12:46] [INFO] Running on \u001b[38;5;121m\u001b[4m[Intel(R) Core(TM) i7-8565U CPU @ 1.80GHz]\u001b[0m\u001b[38;5;159m with backend \u001b[38;5;121m\u001b[4mgs.cpu\u001b[0m\u001b[38;5;159m. Device memory: \u001b[38;5;121m\u001b[4m15.78\u001b[0m\u001b[38;5;159m GB.\u001b[0m\n",
      "\u001b[38;5;159m[Genesis] [22:12:46] [INFO] 🚀 Genesis initialized. 🔖 version: \u001b[38;5;121m\u001b[4m0.2.1\u001b[0m\u001b[38;5;159m, 🌱 seed: \u001b[38;5;121m\u001b[4mNone\u001b[0m\u001b[38;5;159m, 📏 precision: '\u001b[38;5;121m\u001b[4m32\u001b[0m\u001b[38;5;159m', 🐛 debug: \u001b[38;5;121m\u001b[4mFalse\u001b[0m\u001b[38;5;159m, 🎨 theme: '\u001b[38;5;121m\u001b[4mdark\u001b[0m\u001b[38;5;159m'.\u001b[0m\n",
      "\u001b[38;5;159m[Genesis] [22:12:47] [INFO] Scene \u001b[38;5;121m\u001b[3m<d448134>\u001b[0m\u001b[38;5;159m created.\u001b[0m\n",
      "\u001b[38;5;159m[Genesis] [22:12:47] [INFO] Adding \u001b[38;5;121m<gs.RigidEntity>\u001b[0m\u001b[38;5;159m. idx: \u001b[38;5;121m0\u001b[0m\u001b[38;5;159m, uid: \u001b[38;5;121m\u001b[3m<84552e7>\u001b[0m\u001b[38;5;159m, morph: \u001b[38;5;121m<gs.morphs.Plane>\u001b[0m\u001b[38;5;159m, material: \u001b[38;5;121m<gs.materials.Rigid>\u001b[0m\u001b[38;5;159m.\u001b[0m\n",
      "\u001b[38;5;159m[Genesis] [22:12:47] [INFO] Adding \u001b[38;5;121m<gs.RigidEntity>\u001b[0m\u001b[38;5;159m. idx: \u001b[38;5;121m1\u001b[0m\u001b[38;5;159m, uid: \u001b[38;5;121m\u001b[3m<0639a5c>\u001b[0m\u001b[38;5;159m, morph: \u001b[38;5;121m<gs.morphs.MJCF(file='C:\\Users\\ritwi\\Desktop\\total_robotics\\genesis_AI_sims\\Unitree_Go2\\xml\\Unitree_Go2\\go2.xml')>\u001b[0m\u001b[38;5;159m, material: \u001b[38;5;121m<gs.materials.Rigid>\u001b[0m\u001b[38;5;159m.\u001b[0m\n",
      "\u001b[38;5;226m[Genesis] [22:12:49] [WARNING] (MJCF) Friction loss at DoF-level not supported.\u001b[0m\n",
      "\u001b[38;5;226m[Genesis] [22:12:49] [WARNING] (MJCF) Joint Coulomb friction not supported.\u001b[0m\n",
      "\u001b[38;5;226m[Genesis] [22:12:49] [WARNING] (MJCF) Friction loss at DoF-level not supported.\u001b[0m\n",
      "\u001b[38;5;226m[Genesis] [22:12:49] [WARNING] (MJCF) Joint Coulomb friction not supported.\u001b[0m\n",
      "\u001b[38;5;226m[Genesis] [22:12:49] [WARNING] (MJCF) Friction loss at DoF-level not supported.\u001b[0m\n",
      "\u001b[38;5;226m[Genesis] [22:12:49] [WARNING] (MJCF) Joint Coulomb friction not supported.\u001b[0m\n",
      "\u001b[38;5;226m[Genesis] [22:12:49] [WARNING] (MJCF) Friction loss at DoF-level not supported.\u001b[0m\n",
      "\u001b[38;5;226m[Genesis] [22:12:49] [WARNING] (MJCF) Joint Coulomb friction not supported.\u001b[0m\n",
      "\u001b[38;5;226m[Genesis] [22:12:49] [WARNING] (MJCF) Friction loss at DoF-level not supported.\u001b[0m\n",
      "\u001b[38;5;226m[Genesis] [22:12:49] [WARNING] (MJCF) Joint Coulomb friction not supported.\u001b[0m\n",
      "\u001b[38;5;226m[Genesis] [22:12:49] [WARNING] (MJCF) Friction loss at DoF-level not supported.\u001b[0m\n",
      "\u001b[38;5;226m[Genesis] [22:12:49] [WARNING] (MJCF) Joint Coulomb friction not supported.\u001b[0m\n",
      "\u001b[38;5;226m[Genesis] [22:12:49] [WARNING] (MJCF) Friction loss at DoF-level not supported.\u001b[0m\n",
      "\u001b[38;5;226m[Genesis] [22:12:49] [WARNING] (MJCF) Joint Coulomb friction not supported.\u001b[0m\n",
      "\u001b[38;5;226m[Genesis] [22:12:49] [WARNING] (MJCF) Friction loss at DoF-level not supported.\u001b[0m\n",
      "\u001b[38;5;226m[Genesis] [22:12:49] [WARNING] (MJCF) Joint Coulomb friction not supported.\u001b[0m\n",
      "\u001b[38;5;226m[Genesis] [22:12:49] [WARNING] (MJCF) Friction loss at DoF-level not supported.\u001b[0m\n",
      "\u001b[38;5;226m[Genesis] [22:12:49] [WARNING] (MJCF) Joint Coulomb friction not supported.\u001b[0m\n",
      "\u001b[38;5;226m[Genesis] [22:12:49] [WARNING] (MJCF) Friction loss at DoF-level not supported.\u001b[0m\n",
      "\u001b[38;5;226m[Genesis] [22:12:49] [WARNING] (MJCF) Joint Coulomb friction not supported.\u001b[0m\n",
      "\u001b[38;5;226m[Genesis] [22:12:49] [WARNING] (MJCF) Friction loss at DoF-level not supported.\u001b[0m\n",
      "\u001b[38;5;226m[Genesis] [22:12:49] [WARNING] (MJCF) Joint Coulomb friction not supported.\u001b[0m\n",
      "\u001b[38;5;226m[Genesis] [22:12:49] [WARNING] (MJCF) Friction loss at DoF-level not supported.\u001b[0m\n",
      "\u001b[38;5;226m[Genesis] [22:12:49] [WARNING] (MJCF) Joint Coulomb friction not supported.\u001b[0m\n",
      "\u001b[38;5;159m[Genesis] [22:12:49] [INFO] Building scene \u001b[38;5;121m\u001b[3m<d448134>\u001b[0m\u001b[38;5;159m...\u001b[0m\n",
      "\u001b[38;5;226m[Genesis] [22:12:52] [WARNING] Reference robot position exceeds joint limits.\u001b[0m\n",
      "\u001b[38;5;159m[Genesis] [22:13:00] [INFO] Compiling simulation kernels...\u001b[0m\n",
      "\u001b[38;5;159m[Genesis] [22:13:31] [INFO] Building visualizer...\u001b[0m\n",
      "\u001b[38;5;159m[Genesis] [22:13:41] [INFO] Viewer created. Resolution: \u001b[38;5;121m900×675\u001b[0m\u001b[38;5;159m, max_FPS: \u001b[38;5;121m60\u001b[0m\u001b[38;5;159m.\u001b[0m\n",
      "\u001b[38;5;226m[Genesis] [22:13:41] [WARNING] This property is deprecated and will be removed in future release. Please use 'dof_idx_local' instead.\u001b[0m\n",
      "\u001b[38;5;226m[Genesis] [22:13:41] [WARNING] This property is deprecated and will be removed in future release. Please use 'dof_idx_local' instead.\u001b[0m\n",
      "\u001b[38;5;226m[Genesis] [22:13:41] [WARNING] This property is deprecated and will be removed in future release. Please use 'dof_idx_local' instead.\u001b[0m\n",
      "\u001b[38;5;226m[Genesis] [22:13:41] [WARNING] This property is deprecated and will be removed in future release. Please use 'dof_idx_local' instead.\u001b[0m\n",
      "\u001b[38;5;226m[Genesis] [22:13:41] [WARNING] This property is deprecated and will be removed in future release. Please use 'dof_idx_local' instead.\u001b[0m\n",
      "\u001b[38;5;226m[Genesis] [22:13:41] [WARNING] This property is deprecated and will be removed in future release. Please use 'dof_idx_local' instead.\u001b[0m\n",
      "\u001b[38;5;226m[Genesis] [22:13:41] [WARNING] This property is deprecated and will be removed in future release. Please use 'dof_idx_local' instead.\u001b[0m\n",
      "\u001b[38;5;226m[Genesis] [22:13:41] [WARNING] This property is deprecated and will be removed in future release. Please use 'dof_idx_local' instead.\u001b[0m\n",
      "\u001b[38;5;226m[Genesis] [22:13:41] [WARNING] This property is deprecated and will be removed in future release. Please use 'dof_idx_local' instead.\u001b[0m\n",
      "\u001b[38;5;226m[Genesis] [22:13:41] [WARNING] This property is deprecated and will be removed in future release. Please use 'dof_idx_local' instead.\u001b[0m\n",
      "\u001b[38;5;226m[Genesis] [22:13:41] [WARNING] This property is deprecated and will be removed in future release. Please use 'dof_idx_local' instead.\u001b[0m\n",
      "\u001b[38;5;226m[Genesis] [22:13:41] [WARNING] This property is deprecated and will be removed in future release. Please use 'dof_idx_local' instead.\u001b[0m\n"
     ]
    },
    {
     "data": {
      "text/plain": [
       "[[0, 1, 2, 3, 4, 5], 10, 14, 7, 11, 15, 8, 12, 16, 9, 13, 17]"
      ]
     },
     "execution_count": 1,
     "metadata": {},
     "output_type": "execute_result"
    }
   ],
   "source": [
    "# Figuring out the interface to the joints Go2\n",
    "\n",
    "import genesis as gs\n",
    "\n",
    "#Initializes Genesis with the CPU backend.\n",
    "gs.init(backend=gs.cpu)\n",
    "\n",
    "scene = gs.Scene(show_viewer=True)\n",
    "\n",
    "#Adds a flat ground plane to the scene.\n",
    "plane = scene.add_entity(gs.morphs.Plane())\n",
    "\n",
    "\n",
    "#Integrate the Go2 Robot xml.\n",
    "robot = gs.morphs.MJCF(file=\"xml/Unitree_Go2/go2.xml\")\n",
    "\n",
    "#Add an entity to the scene.\n",
    "Go2 = scene.add_entity(robot)\n",
    "\n",
    "#Builds the scene.\n",
    "scene.build()\n",
    "\n",
    "\n",
    "\n",
    "# Getting the joint Info Go2\n",
    "jnt_names = [\n",
    "    'FL_hip_joint',\n",
    "    'FL_thigh_joint',\n",
    "    'FL_calf_joint',\n",
    "    'FR_hip_joint',\n",
    "    'FR_thigh_joint',\n",
    "    'FR_calf_joint',\n",
    "    'RL_hip_joint',\n",
    "    'RL_thigh_joint',\n",
    "    'RL_calf_joint',\n",
    "    'RR_hip_joint',\n",
    "    'RR_thigh_joint',\n",
    "    'RR_calf_joint', \n",
    "]\n",
    "dofs_idx = [Go2.get_joint(name).dof_idx_local for name in jnt_names]\n",
    "dofs_idx"
   ]
  },
  {
   "cell_type": "code",
   "execution_count": null,
   "id": "3f3fa6fe-d757-433a-bc94-9ad12180d05d",
   "metadata": {},
   "outputs": [],
   "source": []
  }
 ],
 "metadata": {
  "kernelspec": {
   "display_name": "Python 3 (ipykernel)",
   "language": "python",
   "name": "python3"
  },
  "language_info": {
   "codemirror_mode": {
    "name": "ipython",
    "version": 3
   },
   "file_extension": ".py",
   "mimetype": "text/x-python",
   "name": "python",
   "nbconvert_exporter": "python",
   "pygments_lexer": "ipython3",
   "version": "3.10.16"
  }
 },
 "nbformat": 4,
 "nbformat_minor": 5
}
