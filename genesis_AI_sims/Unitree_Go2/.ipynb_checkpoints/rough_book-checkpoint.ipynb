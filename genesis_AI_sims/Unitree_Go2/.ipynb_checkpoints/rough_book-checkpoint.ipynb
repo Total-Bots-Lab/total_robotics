{
 "cells": [
  {
   "cell_type": "code",
   "execution_count": 1,
   "id": "571c18de-510e-46e7-bd77-a299accf2b2c",
   "metadata": {},
   "outputs": [
    {
     "name": "stdout",
     "output_type": "stream",
     "text": [
      "[-0.5 -1.  -2.  -0.5 -1.  -2.  -0.5 -1.  -2.  -0.5 -1.  -2. ]\n",
      "[0.5 2.  0.  0.5 2.  0.  0.5 2.  0.  0.5 2.  0. ]\n"
     ]
    }
   ],
   "source": [
    "# Box action space\n",
    "import numpy as np\n",
    "import gymnasium as gym\n",
    "\n",
    "\n",
    "'Lower limits for joint positions.'\n",
    "lower_limit_actions = np.array([-0.5, -1.0, -2.0,\n",
    "                                -0.5, -1.0, -2.0,\n",
    "                                -0.5, -1.0, -2.0,\n",
    "                                -0.5, -1.0, -2.0], dtype=np.float32)\n",
    "\n",
    "'Upper limits for joint positions.'\n",
    "upper_limit_actions = np.array([0.5,  2.0,  0.0,\n",
    "                                0.5,  2.0,  0.0,\n",
    "                                0.5,  2.0,  0.0,\n",
    "                                0.5,  2.0,  0.0], dtype=np.float32)\n",
    "\n",
    "'Defining the action space.'\n",
    "action_space = gym.spaces.Box(low=lower_limit_actions,\n",
    "                              high=upper_limit_actions,\n",
    "                              dtype=np.float32)\n",
    "\n",
    "print(action_space.low)\n",
    "print(action_space.high)"
   ]
  },
  {
   "cell_type": "code",
   "execution_count": 2,
   "id": "489279aa-7bfe-4c4e-82a6-d5ed7c3b6801",
   "metadata": {},
   "outputs": [
    {
     "data": {
      "text/plain": [
       "array([-0.27584916,  0.82055825, -1.4751898 ,  0.44889417,  0.11639491,\n",
       "       -1.298999  , -0.15862359,  1.9684066 , -1.026816  ,  0.06903791,\n",
       "        0.81894577, -1.653259  ], dtype=float32)"
      ]
     },
     "execution_count": 2,
     "metadata": {},
     "output_type": "execute_result"
    }
   ],
   "source": [
    "np.clip(action_space.sample(), lower_limit_actions, upper_limit_actions)"
   ]
  },
  {
   "cell_type": "code",
   "execution_count": 1,
   "id": "14e97231-8445-4ca6-a8ea-8a368bfac880",
   "metadata": {},
   "outputs": [
    {
     "name": "stdout",
     "output_type": "stream",
     "text": [
      "\u001b[38;5;159m[Genesis] [18:42:58] [INFO] \u001b[38;5;121m╭─────────────────────────────────────────────────────────────────────────────────────╮\u001b[0m\u001b[38;5;159m\u001b[0m\n",
      "\u001b[38;5;159m[Genesis] [18:42:58] [INFO] \u001b[38;5;121m│┈┉┈┉┈┉┈┉┈┉┈┉┈┉┈┉┈┉┈┉┈┉┈┉┈┉┈┉┈┉┈┉┈┉┈┉┈┉\u001b[0m\u001b[38;5;159m \u001b[38;5;121m\u001b[1m\u001b[3mGenesis\u001b[0m\u001b[38;5;159m \u001b[38;5;121m┈┉┈┉┈┉┈┉┈┉┈┉┈┉┈┉┈┉┈┉┈┉┈┉┈┉┈┉┈┉┈┉┈┉┈┉┈┉│\u001b[0m\u001b[38;5;159m\u001b[0m\n",
      "\u001b[38;5;159m[Genesis] [18:42:58] [INFO] \u001b[38;5;121m╰─────────────────────────────────────────────────────────────────────────────────────╯\u001b[0m\u001b[38;5;159m\u001b[0m\n",
      "\u001b[38;5;159m[Genesis] [18:43:03] [INFO] Running on \u001b[38;5;121m\u001b[4m[Intel(R) Core(TM) i7-8565U CPU @ 1.80GHz]\u001b[0m\u001b[38;5;159m with backend \u001b[38;5;121m\u001b[4mgs.cpu\u001b[0m\u001b[38;5;159m. Device memory: \u001b[38;5;121m\u001b[4m15.78\u001b[0m\u001b[38;5;159m GB.\u001b[0m\n",
      "\u001b[38;5;159m[Genesis] [18:43:03] [INFO] 🚀 Genesis initialized. 🔖 version: \u001b[38;5;121m\u001b[4m0.2.1\u001b[0m\u001b[38;5;159m, 🌱 seed: \u001b[38;5;121m\u001b[4mNone\u001b[0m\u001b[38;5;159m, 📏 precision: '\u001b[38;5;121m\u001b[4m32\u001b[0m\u001b[38;5;159m', 🐛 debug: \u001b[38;5;121m\u001b[4mFalse\u001b[0m\u001b[38;5;159m, 🎨 theme: '\u001b[38;5;121m\u001b[4mdark\u001b[0m\u001b[38;5;159m'.\u001b[0m\n",
      "\u001b[38;5;159m[Genesis] [18:43:05] [INFO] Scene \u001b[38;5;121m\u001b[3m<178505e>\u001b[0m\u001b[38;5;159m created.\u001b[0m\n",
      "\u001b[38;5;159m[Genesis] [18:43:05] [INFO] Adding \u001b[38;5;121m<gs.RigidEntity>\u001b[0m\u001b[38;5;159m. idx: \u001b[38;5;121m0\u001b[0m\u001b[38;5;159m, uid: \u001b[38;5;121m\u001b[3m<a1db9ac>\u001b[0m\u001b[38;5;159m, morph: \u001b[38;5;121m<gs.morphs.Plane>\u001b[0m\u001b[38;5;159m, material: \u001b[38;5;121m<gs.materials.Rigid>\u001b[0m\u001b[38;5;159m.\u001b[0m\n",
      "\u001b[38;5;159m[Genesis] [18:43:05] [INFO] Adding \u001b[38;5;121m<gs.RigidEntity>\u001b[0m\u001b[38;5;159m. idx: \u001b[38;5;121m1\u001b[0m\u001b[38;5;159m, uid: \u001b[38;5;121m\u001b[3m<ff9986c>\u001b[0m\u001b[38;5;159m, morph: \u001b[38;5;121m<gs.morphs.MJCF(file='C:\\Users\\ritwi\\Genesis\\genesis\\assets\\xml/franka_emika_panda/panda.xml')>\u001b[0m\u001b[38;5;159m, material: \u001b[38;5;121m<gs.materials.Rigid>\u001b[0m\u001b[38;5;159m.\u001b[0m\n",
      "\u001b[38;5;226m[Genesis] [18:43:09] [WARNING] (MJCF) Tendon not supported\u001b[0m\n",
      "\u001b[38;5;226m[Genesis] [18:43:10] [WARNING] (MJCF) Approximating tendon by joint actuator for `finger_joint1`\u001b[0m\n",
      "\u001b[38;5;226m[Genesis] [18:43:10] [WARNING] (MJCF) Actuator control gain and bias parameters cannot be reduced to a unique PD control position gain. Using max between gain and bias.\u001b[0m\n",
      "\u001b[38;5;226m[Genesis] [18:43:10] [WARNING] (MJCF) Approximating tendon by joint actuator for `finger_joint2`\u001b[0m\n",
      "\u001b[38;5;226m[Genesis] [18:43:10] [WARNING] (MJCF) Actuator control gain and bias parameters cannot be reduced to a unique PD control position gain. Using max between gain and bias.\u001b[0m\n",
      "\u001b[38;5;159m[Genesis] [18:43:11] [INFO] Building scene \u001b[38;5;121m\u001b[3m<178505e>\u001b[0m\u001b[38;5;159m...\u001b[0m\n",
      "\u001b[38;5;226m[Genesis] [18:43:18] [WARNING] Reference robot position exceeds joint limits.\u001b[0m\n",
      "\u001b[38;5;226m[Genesis] [18:43:18] [WARNING] Constraint solver time constant was increased to avoid numerical instability (from `0.005` to `0.02`). Decrease simulation timestep to avoid altering the original value.\u001b[0m\n",
      "\u001b[38;5;159m[Genesis] [18:43:32] [INFO] Compiling simulation kernels...\u001b[0m\n",
      "\u001b[38;5;159m[Genesis] [18:44:28] [INFO] Building visualizer...\u001b[0m\n",
      "\u001b[38;5;159m[Genesis] [18:44:39] [INFO] Viewer created. Resolution: \u001b[38;5;121m900×675\u001b[0m\u001b[38;5;159m, max_FPS: \u001b[38;5;121m60\u001b[0m\u001b[38;5;159m.\u001b[0m\n",
      "\u001b[38;5;226m[Genesis] [18:44:39] [WARNING] This property is deprecated and will be removed in future release. Please use 'dof_idx_local' instead.\u001b[0m\n",
      "\u001b[38;5;226m[Genesis] [18:44:39] [WARNING] This property is deprecated and will be removed in future release. Please use 'dof_idx_local' instead.\u001b[0m\n",
      "\u001b[38;5;226m[Genesis] [18:44:39] [WARNING] This property is deprecated and will be removed in future release. Please use 'dof_idx_local' instead.\u001b[0m\n",
      "\u001b[38;5;226m[Genesis] [18:44:39] [WARNING] This property is deprecated and will be removed in future release. Please use 'dof_idx_local' instead.\u001b[0m\n",
      "\u001b[38;5;226m[Genesis] [18:44:39] [WARNING] This property is deprecated and will be removed in future release. Please use 'dof_idx_local' instead.\u001b[0m\n",
      "\u001b[38;5;226m[Genesis] [18:44:39] [WARNING] This property is deprecated and will be removed in future release. Please use 'dof_idx_local' instead.\u001b[0m\n",
      "\u001b[38;5;226m[Genesis] [18:44:39] [WARNING] This property is deprecated and will be removed in future release. Please use 'dof_idx_local' instead.\u001b[0m\n",
      "\u001b[38;5;226m[Genesis] [18:44:39] [WARNING] This property is deprecated and will be removed in future release. Please use 'dof_idx_local' instead.\u001b[0m\n",
      "\u001b[38;5;226m[Genesis] [18:44:39] [WARNING] This property is deprecated and will be removed in future release. Please use 'dof_idx_local' instead.\u001b[0m\n"
     ]
    },
    {
     "data": {
      "text/plain": [
       "[0, 1, 2, 3, 4, 5, 6, 7, 8]"
      ]
     },
     "execution_count": 1,
     "metadata": {},
     "output_type": "execute_result"
    }
   ],
   "source": [
    "# Figuring out the interface to the joints Franka\n",
    "import genesis as gs\n",
    "\n",
    "#Initializes Genesis with the CPU backend.\n",
    "gs.init(backend=gs.cpu)\n",
    "\n",
    "scene = gs.Scene(show_viewer=True)\n",
    "\n",
    "#Adds a flat ground plane to the scene.\n",
    "scene.add_entity(gs.morphs.Plane())\n",
    "\n",
    "\n",
    "#Integrate the Franka Robot xml.\n",
    "robot = gs.morphs.MJCF(file='xml/franka_emika_panda/panda.xml')\n",
    "\n",
    "#Add an entity to the scene.\n",
    "franka = scene.add_entity(robot)\n",
    "\n",
    "#Builds the scene.\n",
    "scene.build()\n",
    "\n",
    "# Getting the joint Info Franka\n",
    "jnt_names = [\n",
    "    'joint1',\n",
    "    'joint2',\n",
    "    'joint3',\n",
    "    'joint4',\n",
    "    'joint5',\n",
    "    'joint6',\n",
    "    'joint7',\n",
    "    'finger_joint1',\n",
    "    'finger_joint2',\n",
    "]\n",
    "dofs_idx = [franka.get_joint(name).dof_idx_local for name in jnt_names]\n",
    "dofs_idx"
   ]
  },
  {
   "cell_type": "code",
   "execution_count": 2,
   "id": "6e0570bc-3c30-47fc-8a6f-5ad9a5426351",
   "metadata": {},
   "outputs": [
    {
     "ename": "GenesisException",
     "evalue": "Genesis already initialized.",
     "output_type": "error",
     "traceback": [
      "\u001b[1;31m---------------------------------------------------------------------------\u001b[0m",
      "\u001b[1;31mGenesisException\u001b[0m                          Traceback (most recent call last)",
      "Cell \u001b[1;32mIn[2], line 6\u001b[0m\n\u001b[0;32m      3\u001b[0m \u001b[38;5;28;01mimport\u001b[39;00m\u001b[38;5;250m \u001b[39m\u001b[38;5;21;01mgenesis\u001b[39;00m\u001b[38;5;250m \u001b[39m\u001b[38;5;28;01mas\u001b[39;00m\u001b[38;5;250m \u001b[39m\u001b[38;5;21;01mgs\u001b[39;00m\n\u001b[0;32m      5\u001b[0m \u001b[38;5;66;03m#Initializes Genesis with the CPU backend.\u001b[39;00m\n\u001b[1;32m----> 6\u001b[0m \u001b[43mgs\u001b[49m\u001b[38;5;241;43m.\u001b[39;49m\u001b[43minit\u001b[49m\u001b[43m(\u001b[49m\u001b[43mbackend\u001b[49m\u001b[38;5;241;43m=\u001b[39;49m\u001b[43mgs\u001b[49m\u001b[38;5;241;43m.\u001b[39;49m\u001b[43mcpu\u001b[49m\u001b[43m)\u001b[49m\n\u001b[0;32m      8\u001b[0m scene \u001b[38;5;241m=\u001b[39m gs\u001b[38;5;241m.\u001b[39mScene(show_viewer\u001b[38;5;241m=\u001b[39m\u001b[38;5;28;01mTrue\u001b[39;00m)\n\u001b[0;32m     10\u001b[0m \u001b[38;5;66;03m#Adds a flat ground plane to the scene.\u001b[39;00m\n",
      "File \u001b[1;32m~\\Genesis\\genesis\\__init__.py:57\u001b[0m, in \u001b[0;36minit\u001b[1;34m(seed, precision, debug, eps, logging_level, backend, theme, logger_verbose_time)\u001b[0m\n\u001b[0;32m     55\u001b[0m \u001b[38;5;28;01mglobal\u001b[39;00m _initialized\n\u001b[0;32m     56\u001b[0m \u001b[38;5;28;01mif\u001b[39;00m _initialized:\n\u001b[1;32m---> 57\u001b[0m     \u001b[43mraise_exception\u001b[49m\u001b[43m(\u001b[49m\u001b[38;5;124;43m\"\u001b[39;49m\u001b[38;5;124;43mGenesis already initialized.\u001b[39;49m\u001b[38;5;124;43m\"\u001b[39;49m\u001b[43m)\u001b[49m\n\u001b[0;32m     58\u001b[0m _initialized \u001b[38;5;241m=\u001b[39m \u001b[38;5;28;01mTrue\u001b[39;00m\n\u001b[0;32m     60\u001b[0m \u001b[38;5;66;03m# genesis._theme\u001b[39;00m\n",
      "File \u001b[1;32m~\\Genesis\\genesis\\utils\\misc.py:38\u001b[0m, in \u001b[0;36mraise_exception\u001b[1;34m(msg)\u001b[0m\n\u001b[0;32m     37\u001b[0m \u001b[38;5;28;01mdef\u001b[39;00m\u001b[38;5;250m \u001b[39m\u001b[38;5;21mraise_exception\u001b[39m(msg\u001b[38;5;241m=\u001b[39m\u001b[38;5;124m\"\u001b[39m\u001b[38;5;124mSomething went wrong.\u001b[39m\u001b[38;5;124m\"\u001b[39m):\n\u001b[1;32m---> 38\u001b[0m     \u001b[38;5;28;01mraise\u001b[39;00m gs\u001b[38;5;241m.\u001b[39mGenesisException(msg)\n",
      "\u001b[1;31mGenesisException\u001b[0m: Genesis already initialized."
     ]
    }
   ],
   "source": [
    "# Figuring out the interface to the joints Go2\n",
    "\n",
    "import genesis as gs\n",
    "\n",
    "#Initializes Genesis with the CPU backend.\n",
    "gs.init(backend=gs.cpu)\n",
    "\n",
    "scene = gs.Scene(show_viewer=True)\n",
    "\n",
    "#Adds a flat ground plane to the scene.\n",
    "plane = scene.add_entity(gs.morphs.Plane())\n",
    "\n",
    "\n",
    "#Integrate the Go2 Robot xml.\n",
    "robot = gs.morphs.MJCF(file=\"xml/Unitree_Go2/go2.xml\")\n",
    "\n",
    "#Add an entity to the scene.\n",
    "Go2 = scene.add_entity(robot)\n",
    "\n",
    "#Builds the scene.\n",
    "scene.build()\n",
    "\n",
    "# Getting the joint Info Go2\n",
    "jnt_names = [\n",
    "    'FL_hip_joint',\n",
    "    'FL_thigh_joint',\n",
    "    'FL_calf_joint',\n",
    "    'FR_hip_joint',\n",
    "    'FR_thigh_joint',\n",
    "    'FR_calf_joint',\n",
    "    'RL_hip_joint',\n",
    "    'RL_thigh_joint',\n",
    "    'RL_calf_joint',\n",
    "    'RR_hip_joint',\n",
    "    'RR_thigh_joint',\n",
    "    'RR_calf_joint', \n",
    "]\n",
    "dofs_idx = [Go2.get_joint(name).dof_idx_local for name in jnt_names]\n",
    "dofs_idx"
   ]
  },
  {
   "cell_type": "code",
   "execution_count": null,
   "id": "1b66f8dc-8f96-4bbc-9bc9-178b21d51332",
   "metadata": {},
   "outputs": [],
   "source": [
    "jnt_names = [\n",
    "    'joint1',\n",
    "    'joint2',\n",
    "    'joint3',\n",
    "    'joint4',\n",
    "    'joint5',\n",
    "    'joint6',\n",
    "    'joint7',\n",
    "    'finger_joint1',\n",
    "    'finger_joint2',\n",
    "]\n",
    "dofs_idx = [Go2.get_joint(name).dof_idx_local for name in jnt_names]\n",
    "dofs_idx"
   ]
  }
 ],
 "metadata": {
  "kernelspec": {
   "display_name": "Python 3 (ipykernel)",
   "language": "python",
   "name": "python3"
  },
  "language_info": {
   "codemirror_mode": {
    "name": "ipython",
    "version": 3
   },
   "file_extension": ".py",
   "mimetype": "text/x-python",
   "name": "python",
   "nbconvert_exporter": "python",
   "pygments_lexer": "ipython3",
   "version": "3.10.16"
  }
 },
 "nbformat": 4,
 "nbformat_minor": 5
}
