{
 "cells": [
  {
   "cell_type": "code",
   "execution_count": 1,
   "id": "571c18de-510e-46e7-bd77-a299accf2b2c",
   "metadata": {},
   "outputs": [],
   "source": [
    "# Box action space\n",
    "import numpy as np\n",
    "import gymnasium as gym\n",
    "\n",
    "\n",
    "'Lower limits for joint positions.'\n",
    "lower_limit_actions = np.array([-0.5, -1.0, -2.0,\n",
    "                                -0.5, -1.0, -2.0,\n",
    "                                -0.5, -1.0, -2.0,\n",
    "                                -0.5, -1.0, -2.0], dtype=np.float32)\n",
    "\n",
    "'Upper limits for joint positions.'\n",
    "upper_limit_actions = np.array([0.5,  2.0,  0.0,\n",
    "                                0.5,  2.0,  0.0,\n",
    "                                0.5,  2.0,  0.0,\n",
    "                                0.5,  2.0,  0.0], dtype=np.float32)\n",
    "\n",
    "'Defining the action space.'\n",
    "action_space = gym.spaces.Box(low=lower_limit_actions,\n",
    "                              high=upper_limit_actions,\n",
    "                              dtype=np.float32)"
   ]
  },
  {
   "cell_type": "code",
   "execution_count": 2,
   "id": "b5927ffc-2cf3-4067-bb81-8f9fa175b0cf",
   "metadata": {},
   "outputs": [
    {
     "data": {
      "text/plain": [
       "array([-0.5, -1. , -2. , -0.5, -1. , -2. , -0.5, -1. , -2. , -0.5, -1. ,\n",
       "       -2. ], dtype=float32)"
      ]
     },
     "execution_count": 2,
     "metadata": {},
     "output_type": "execute_result"
    }
   ],
   "source": [
    "action_space.low"
   ]
  },
  {
   "cell_type": "code",
   "execution_count": 4,
   "id": "8b952310-2ba1-4202-ba1a-e606a481477c",
   "metadata": {},
   "outputs": [
    {
     "data": {
      "text/plain": [
       "array([0.5, 2. , 0. , 0.5, 2. , 0. , 0.5, 2. , 0. , 0.5, 2. , 0. ],\n",
       "      dtype=float32)"
      ]
     },
     "execution_count": 4,
     "metadata": {},
     "output_type": "execute_result"
    }
   ],
   "source": [
    "action_space.high"
   ]
  },
  {
   "cell_type": "code",
   "execution_count": 2,
   "id": "14e97231-8445-4ca6-a8ea-8a368bfac880",
   "metadata": {},
   "outputs": [
    {
     "name": "stdout",
     "output_type": "stream",
     "text": [
      "\u001b[38;5;159m[Genesis] [14:01:04] [INFO] \u001b[38;5;121m╭─────────────────────────────────────────────────────────────────────────────────────╮\u001b[0m\u001b[38;5;159m\u001b[0m\n",
      "\u001b[38;5;159m[Genesis] [14:01:04] [INFO] \u001b[38;5;121m│┈┉┈┉┈┉┈┉┈┉┈┉┈┉┈┉┈┉┈┉┈┉┈┉┈┉┈┉┈┉┈┉┈┉┈┉┈┉\u001b[0m\u001b[38;5;159m \u001b[38;5;121m\u001b[1m\u001b[3mGenesis\u001b[0m\u001b[38;5;159m \u001b[38;5;121m┈┉┈┉┈┉┈┉┈┉┈┉┈┉┈┉┈┉┈┉┈┉┈┉┈┉┈┉┈┉┈┉┈┉┈┉┈┉│\u001b[0m\u001b[38;5;159m\u001b[0m\n",
      "\u001b[38;5;159m[Genesis] [14:01:04] [INFO] \u001b[38;5;121m╰─────────────────────────────────────────────────────────────────────────────────────╯\u001b[0m\u001b[38;5;159m\u001b[0m\n",
      "\u001b[38;5;159m[Genesis] [14:01:06] [INFO] Running on \u001b[38;5;121m\u001b[4m[Intel(R) Core(TM) i7-8565U CPU @ 1.80GHz]\u001b[0m\u001b[38;5;159m with backend \u001b[38;5;121m\u001b[4mgs.cpu\u001b[0m\u001b[38;5;159m. Device memory: \u001b[38;5;121m\u001b[4m15.78\u001b[0m\u001b[38;5;159m GB.\u001b[0m\n",
      "\u001b[38;5;159m[Genesis] [14:01:06] [INFO] 🚀 Genesis initialized. 🔖 version: \u001b[38;5;121m\u001b[4m0.2.1\u001b[0m\u001b[38;5;159m, 🌱 seed: \u001b[38;5;121m\u001b[4mNone\u001b[0m\u001b[38;5;159m, 📏 precision: '\u001b[38;5;121m\u001b[4m32\u001b[0m\u001b[38;5;159m', 🐛 debug: \u001b[38;5;121m\u001b[4mFalse\u001b[0m\u001b[38;5;159m, 🎨 theme: '\u001b[38;5;121m\u001b[4mdark\u001b[0m\u001b[38;5;159m'.\u001b[0m\n",
      "\u001b[38;5;159m[Genesis] [14:01:07] [INFO] Scene \u001b[38;5;121m\u001b[3m<5629b46>\u001b[0m\u001b[38;5;159m created.\u001b[0m\n",
      "\u001b[38;5;159m[Genesis] [14:01:07] [INFO] Adding \u001b[38;5;121m<gs.RigidEntity>\u001b[0m\u001b[38;5;159m. idx: \u001b[38;5;121m0\u001b[0m\u001b[38;5;159m, uid: \u001b[38;5;121m\u001b[3m<b470365>\u001b[0m\u001b[38;5;159m, morph: \u001b[38;5;121m<gs.morphs.Plane>\u001b[0m\u001b[38;5;159m, material: \u001b[38;5;121m<gs.materials.Rigid>\u001b[0m\u001b[38;5;159m.\u001b[0m\n",
      "\u001b[38;5;159m[Genesis] [14:01:07] [INFO] Adding \u001b[38;5;121m<gs.RigidEntity>\u001b[0m\u001b[38;5;159m. idx: \u001b[38;5;121m1\u001b[0m\u001b[38;5;159m, uid: \u001b[38;5;121m\u001b[3m<dc44603>\u001b[0m\u001b[38;5;159m, morph: \u001b[38;5;121m<gs.morphs.MJCF(file='C:\\Users\\ritwi\\Genesis\\genesis\\assets\\xml/franka_emika_panda/panda.xml')>\u001b[0m\u001b[38;5;159m, material: \u001b[38;5;121m<gs.materials.Rigid>\u001b[0m\u001b[38;5;159m.\u001b[0m\n",
      "\u001b[38;5;226m[Genesis] [14:01:08] [WARNING] (MJCF) Tendon not supported\u001b[0m\n",
      "\u001b[38;5;226m[Genesis] [14:01:08] [WARNING] (MJCF) Approximating tendon by joint actuator for `finger_joint1`\u001b[0m\n",
      "\u001b[38;5;226m[Genesis] [14:01:08] [WARNING] (MJCF) Actuator control gain and bias parameters cannot be reduced to a unique PD control position gain. Using max between gain and bias.\u001b[0m\n",
      "\u001b[38;5;226m[Genesis] [14:01:08] [WARNING] (MJCF) Approximating tendon by joint actuator for `finger_joint2`\u001b[0m\n",
      "\u001b[38;5;226m[Genesis] [14:01:08] [WARNING] (MJCF) Actuator control gain and bias parameters cannot be reduced to a unique PD control position gain. Using max between gain and bias.\u001b[0m\n",
      "\u001b[38;5;159m[Genesis] [14:01:09] [INFO] Building scene \u001b[38;5;121m\u001b[3m<5629b46>\u001b[0m\u001b[38;5;159m...\u001b[0m\n",
      "\u001b[38;5;226m[Genesis] [14:01:11] [WARNING] Reference robot position exceeds joint limits.\u001b[0m\n",
      "\u001b[38;5;226m[Genesis] [14:01:11] [WARNING] Constraint solver time constant was increased to avoid numerical instability (from `0.005` to `0.02`). Decrease simulation timestep to avoid altering the original value.\u001b[0m\n",
      "\u001b[38;5;159m[Genesis] [14:01:18] [INFO] Compiling simulation kernels...\u001b[0m\n",
      "\u001b[38;5;159m[Genesis] [14:01:48] [INFO] Building visualizer...\u001b[0m\n",
      "\u001b[38;5;159m[Genesis] [14:01:53] [INFO] Viewer created. Resolution: \u001b[38;5;121m900×675\u001b[0m\u001b[38;5;159m, max_FPS: \u001b[38;5;121m60\u001b[0m\u001b[38;5;159m.\u001b[0m\n"
     ]
    }
   ],
   "source": [
    "# Figuring out the interface to the joints\n",
    "import genesis as gs\n",
    "\n",
    "#Initializes Genesis with the CPU backend.\n",
    "gs.init(backend=gs.cpu)\n",
    "\n",
    "scene = gs.Scene(show_viewer=True)\n",
    "\n",
    "#Adds a flat ground plane to the scene.\n",
    "scene.add_entity(gs.morphs.Plane())\n",
    "\n",
    "\n",
    "#Integrate the Go2 Robot xml.\n",
    "robot = gs.morphs.MJCF(file='xml/franka_emika_panda/panda.xml')\n",
    "\n",
    "#Add an entity to the scene.\n",
    "franka = scene.add_entity(robot)\n",
    "\n",
    "#Builds the scene.\n",
    "scene.build()"
   ]
  },
  {
   "cell_type": "code",
   "execution_count": 3,
   "id": "0b684b60-02c6-42ab-ad14-4883547fc02e",
   "metadata": {},
   "outputs": [
    {
     "name": "stdout",
     "output_type": "stream",
     "text": [
      "\u001b[38;5;226m[Genesis] [14:02:05] [WARNING] This property is deprecated and will be removed in future release. Please use 'dof_idx_local' instead.\u001b[0m\n",
      "\u001b[38;5;226m[Genesis] [14:02:05] [WARNING] This property is deprecated and will be removed in future release. Please use 'dof_idx_local' instead.\u001b[0m\n",
      "\u001b[38;5;226m[Genesis] [14:02:05] [WARNING] This property is deprecated and will be removed in future release. Please use 'dof_idx_local' instead.\u001b[0m\n",
      "\u001b[38;5;226m[Genesis] [14:02:05] [WARNING] This property is deprecated and will be removed in future release. Please use 'dof_idx_local' instead.\u001b[0m\n",
      "\u001b[38;5;226m[Genesis] [14:02:05] [WARNING] This property is deprecated and will be removed in future release. Please use 'dof_idx_local' instead.\u001b[0m\n",
      "\u001b[38;5;226m[Genesis] [14:02:05] [WARNING] This property is deprecated and will be removed in future release. Please use 'dof_idx_local' instead.\u001b[0m\n",
      "\u001b[38;5;226m[Genesis] [14:02:05] [WARNING] This property is deprecated and will be removed in future release. Please use 'dof_idx_local' instead.\u001b[0m\n",
      "\u001b[38;5;226m[Genesis] [14:02:05] [WARNING] This property is deprecated and will be removed in future release. Please use 'dof_idx_local' instead.\u001b[0m\n",
      "\u001b[38;5;226m[Genesis] [14:02:05] [WARNING] This property is deprecated and will be removed in future release. Please use 'dof_idx_local' instead.\u001b[0m\n"
     ]
    },
    {
     "data": {
      "text/plain": [
       "[0, 1, 2, 3, 4, 5, 6, 7, 8]"
      ]
     },
     "execution_count": 3,
     "metadata": {},
     "output_type": "execute_result"
    }
   ],
   "source": [
    "\n",
    "jnt_names = [\n",
    "    'joint1',\n",
    "    'joint2',\n",
    "    'joint3',\n",
    "    'joint4',\n",
    "    'joint5',\n",
    "    'joint6',\n",
    "    'joint7',\n",
    "    'finger_joint1',\n",
    "    'finger_joint2',\n",
    "]\n",
    "dofs_idx = [franka.get_joint(name).dof_idx_local for name in jnt_names]\n",
    "dofs_idx"
   ]
  },
  {
   "cell_type": "code",
   "execution_count": null,
   "id": "6e0570bc-3c30-47fc-8a6f-5ad9a5426351",
   "metadata": {},
   "outputs": [
    {
     "name": "stdout",
     "output_type": "stream",
     "text": [
      "\u001b[38;5;159m[Genesis] [13:51:43] [INFO] \u001b[38;5;121m╭─────────────────────────────────────────────────────────────────────────────────────╮\u001b[0m\u001b[38;5;159m\u001b[0m\n",
      "\u001b[38;5;159m[Genesis] [13:51:43] [INFO] \u001b[38;5;121m│┈┉┈┉┈┉┈┉┈┉┈┉┈┉┈┉┈┉┈┉┈┉┈┉┈┉┈┉┈┉┈┉┈┉┈┉┈┉\u001b[0m\u001b[38;5;159m \u001b[38;5;121m\u001b[1m\u001b[3mGenesis\u001b[0m\u001b[38;5;159m \u001b[38;5;121m┈┉┈┉┈┉┈┉┈┉┈┉┈┉┈┉┈┉┈┉┈┉┈┉┈┉┈┉┈┉┈┉┈┉┈┉┈┉│\u001b[0m\u001b[38;5;159m\u001b[0m\n",
      "\u001b[38;5;159m[Genesis] [13:51:43] [INFO] \u001b[38;5;121m╰─────────────────────────────────────────────────────────────────────────────────────╯\u001b[0m\u001b[38;5;159m\u001b[0m\n",
      "\u001b[38;5;226m[Genesis] [13:51:43] [WARNING] No Intel XPU device available. Falling back to CPU for torch device.\u001b[0m\n",
      "\u001b[38;5;159m[Genesis] [13:51:46] [INFO] Running on \u001b[38;5;121m\u001b[4m[Intel(R) Core(TM) i7-8565U CPU @ 1.80GHz]\u001b[0m\u001b[38;5;159m with backend \u001b[38;5;121m\u001b[4mgs.vulkan\u001b[0m\u001b[38;5;159m. Device memory: \u001b[38;5;121m\u001b[4m15.78\u001b[0m\u001b[38;5;159m GB.\u001b[0m\n",
      "\u001b[38;5;159m[Genesis] [13:51:46] [INFO] 🚀 Genesis initialized. 🔖 version: \u001b[38;5;121m\u001b[4m0.2.1\u001b[0m\u001b[38;5;159m, 🌱 seed: \u001b[38;5;121m\u001b[4mNone\u001b[0m\u001b[38;5;159m, 📏 precision: '\u001b[38;5;121m\u001b[4m32\u001b[0m\u001b[38;5;159m', 🐛 debug: \u001b[38;5;121m\u001b[4mFalse\u001b[0m\u001b[38;5;159m, 🎨 theme: '\u001b[38;5;121m\u001b[4mdark\u001b[0m\u001b[38;5;159m'.\u001b[0m\n",
      "\u001b[38;5;159m[Genesis] [13:51:47] [INFO] Scene \u001b[38;5;121m\u001b[3m<9307f60>\u001b[0m\u001b[38;5;159m created.\u001b[0m\n",
      "\u001b[38;5;159m[Genesis] [13:51:47] [INFO] Adding \u001b[38;5;121m<gs.RigidEntity>\u001b[0m\u001b[38;5;159m. idx: \u001b[38;5;121m0\u001b[0m\u001b[38;5;159m, uid: \u001b[38;5;121m\u001b[3m<74a6b2c>\u001b[0m\u001b[38;5;159m, morph: \u001b[38;5;121m<gs.morphs.Plane>\u001b[0m\u001b[38;5;159m, material: \u001b[38;5;121m<gs.materials.Rigid>\u001b[0m\u001b[38;5;159m.\u001b[0m\n",
      "\u001b[38;5;159m[Genesis] [13:51:47] [INFO] Adding \u001b[38;5;121m<gs.RigidEntity>\u001b[0m\u001b[38;5;159m. idx: \u001b[38;5;121m1\u001b[0m\u001b[38;5;159m, uid: \u001b[38;5;121m\u001b[3m<ce45c6b>\u001b[0m\u001b[38;5;159m, morph: \u001b[38;5;121m<gs.morphs.MJCF(file='C:\\Users\\ritwi\\Genesis\\genesis\\assets\\xml/franka_emika_panda/panda.xml')>\u001b[0m\u001b[38;5;159m, material: \u001b[38;5;121m<gs.materials.Rigid>\u001b[0m\u001b[38;5;159m.\u001b[0m\n",
      "\u001b[38;5;226m[Genesis] [13:51:48] [WARNING] (MJCF) Tendon not supported\u001b[0m\n",
      "\u001b[38;5;226m[Genesis] [13:51:49] [WARNING] (MJCF) Approximating tendon by joint actuator for `finger_joint1`\u001b[0m\n",
      "\u001b[38;5;226m[Genesis] [13:51:49] [WARNING] (MJCF) Actuator control gain and bias parameters cannot be reduced to a unique PD control position gain. Using max between gain and bias.\u001b[0m\n",
      "\u001b[38;5;226m[Genesis] [13:51:49] [WARNING] (MJCF) Approximating tendon by joint actuator for `finger_joint2`\u001b[0m\n",
      "\u001b[38;5;226m[Genesis] [13:51:49] [WARNING] (MJCF) Actuator control gain and bias parameters cannot be reduced to a unique PD control position gain. Using max between gain and bias.\u001b[0m\n",
      "\u001b[38;5;159m[Genesis] [13:51:49] [INFO] Applying offset to base link's pose with user provided value in morph.\u001b[0m\n",
      "\u001b[38;5;159m[Genesis] [13:51:49] [INFO] Building scene \u001b[38;5;121m\u001b[3m<9307f60>\u001b[0m\u001b[38;5;159m...\u001b[0m\n",
      "\u001b[38;5;226m[Genesis] [13:51:53] [WARNING] Reference robot position exceeds joint limits.\u001b[0m\n",
      "\u001b[38;5;226m[Genesis] [13:51:53] [WARNING] Constraint solver time constant was increased to avoid numerical instability (from `0.005` to `0.02`). Decrease simulation timestep to avoid altering the original value.\u001b[0m\n",
      "\u001b[38;5;159m[Genesis] [13:52:25] [INFO] Compiling simulation kernels...\u001b[0m\n"
     ]
    }
   ],
   "source": [
    "import numpy as np\n",
    "import genesis as gs\n",
    "\n",
    "########################## init ##########################\n",
    "gs.init(backend=gs.gpu)\n",
    "\n",
    "########################## create a scene ##########################\n",
    "scene = gs.Scene(\n",
    "    viewer_options = gs.options.ViewerOptions(\n",
    "        camera_pos    = (0, -3.5, 2.5),\n",
    "        camera_lookat = (0.0, 0.0, 0.5),\n",
    "        camera_fov    = 30,\n",
    "        max_FPS       = 60,\n",
    "    ),\n",
    "    sim_options = gs.options.SimOptions(\n",
    "        dt = 0.01,\n",
    "    ),\n",
    "    show_viewer = True,\n",
    ")\n",
    "\n",
    "########################## entities ##########################\n",
    "plane = scene.add_entity(\n",
    "    gs.morphs.Plane(),\n",
    ")\n",
    "\n",
    "# when loading an entity, you can specify its pose in the morph.\n",
    "franka = scene.add_entity(\n",
    "    gs.morphs.MJCF(\n",
    "        file  = 'xml/franka_emika_panda/panda.xml',\n",
    "        pos   = (1.0, 1.0, 0.0),\n",
    "        euler = (0, 0, 0),\n",
    "    ),\n",
    ")\n",
    "\n",
    "########################## build ##########################\n",
    "scene.build()"
   ]
  },
  {
   "cell_type": "code",
   "execution_count": 1,
   "id": "f580aba1-caa0-4827-9263-8de03dbb338b",
   "metadata": {},
   "outputs": [],
   "source": [
    "xml = file='xml/franka_emika_panda/panda.xml'"
   ]
  },
  {
   "cell_type": "code",
   "execution_count": 3,
   "id": "5910d1a0-5f4e-4e35-97db-89d9f8e7c0c1",
   "metadata": {},
   "outputs": [
    {
     "name": "stdout",
     "output_type": "stream",
     "text": [
      "xml/franka_emika_panda/panda.xml\n"
     ]
    }
   ],
   "source": [
    "print(xml)\n"
   ]
  },
  {
   "cell_type": "code",
   "execution_count": null,
   "id": "5eb145ed-f777-4584-835b-ef35d12ed4ce",
   "metadata": {},
   "outputs": [],
   "source": []
  }
 ],
 "metadata": {
  "kernelspec": {
   "display_name": "Python 3 (ipykernel)",
   "language": "python",
   "name": "python3"
  },
  "language_info": {
   "codemirror_mode": {
    "name": "ipython",
    "version": 3
   },
   "file_extension": ".py",
   "mimetype": "text/x-python",
   "name": "python",
   "nbconvert_exporter": "python",
   "pygments_lexer": "ipython3",
   "version": "3.10.16"
  }
 },
 "nbformat": 4,
 "nbformat_minor": 5
}
