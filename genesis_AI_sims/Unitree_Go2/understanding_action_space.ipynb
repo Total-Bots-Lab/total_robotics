{
 "cells": [
  {
   "cell_type": "code",
   "execution_count": 1,
   "id": "3ece80b4-324e-4fce-8324-04527d75d6d3",
   "metadata": {},
   "outputs": [
    {
     "name": "stdout",
     "output_type": "stream",
     "text": [
      "\u001b[38;5;159m[Genesis] [10:12:24] [INFO] \u001b[38;5;121m╭─────────────────────────────────────────────────────────────────────────────────────╮\u001b[0m\u001b[38;5;159m\u001b[0m\n",
      "\u001b[38;5;159m[Genesis] [10:12:24] [INFO] \u001b[38;5;121m│┈┉┈┉┈┉┈┉┈┉┈┉┈┉┈┉┈┉┈┉┈┉┈┉┈┉┈┉┈┉┈┉┈┉┈┉┈┉\u001b[0m\u001b[38;5;159m \u001b[38;5;121m\u001b[1m\u001b[3mGenesis\u001b[0m\u001b[38;5;159m \u001b[38;5;121m┈┉┈┉┈┉┈┉┈┉┈┉┈┉┈┉┈┉┈┉┈┉┈┉┈┉┈┉┈┉┈┉┈┉┈┉┈┉│\u001b[0m\u001b[38;5;159m\u001b[0m\n",
      "\u001b[38;5;159m[Genesis] [10:12:24] [INFO] \u001b[38;5;121m╰─────────────────────────────────────────────────────────────────────────────────────╯\u001b[0m\u001b[38;5;159m\u001b[0m\n",
      "\u001b[38;5;159m[Genesis] [10:12:27] [INFO] Running on \u001b[38;5;121m\u001b[4m[Intel(R) Core(TM) i7-8565U CPU @ 1.80GHz]\u001b[0m\u001b[38;5;159m with backend \u001b[38;5;121m\u001b[4mgs.cpu\u001b[0m\u001b[38;5;159m. Device memory: \u001b[38;5;121m\u001b[4m15.78\u001b[0m\u001b[38;5;159m GB.\u001b[0m\n",
      "\u001b[38;5;159m[Genesis] [10:12:27] [INFO] 🚀 Genesis initialized. 🔖 version: \u001b[38;5;121m\u001b[4m0.2.1\u001b[0m\u001b[38;5;159m, 🌱 seed: \u001b[38;5;121m\u001b[4mNone\u001b[0m\u001b[38;5;159m, 📏 precision: '\u001b[38;5;121m\u001b[4m32\u001b[0m\u001b[38;5;159m', 🐛 debug: \u001b[38;5;121m\u001b[4mFalse\u001b[0m\u001b[38;5;159m, 🎨 theme: '\u001b[38;5;121m\u001b[4mdark\u001b[0m\u001b[38;5;159m'.\u001b[0m\n",
      "\u001b[38;5;159m[Genesis] [10:12:29] [INFO] Scene \u001b[38;5;121m\u001b[3m<55f34b1>\u001b[0m\u001b[38;5;159m created.\u001b[0m\n",
      "\u001b[38;5;159m[Genesis] [10:12:29] [INFO] Adding \u001b[38;5;121m<gs.RigidEntity>\u001b[0m\u001b[38;5;159m. idx: \u001b[38;5;121m0\u001b[0m\u001b[38;5;159m, uid: \u001b[38;5;121m\u001b[3m<c3900cb>\u001b[0m\u001b[38;5;159m, morph: \u001b[38;5;121m<gs.morphs.Plane>\u001b[0m\u001b[38;5;159m, material: \u001b[38;5;121m<gs.materials.Rigid>\u001b[0m\u001b[38;5;159m.\u001b[0m\n",
      "\u001b[38;5;159m[Genesis] [10:12:29] [INFO] Adding \u001b[38;5;121m<gs.RigidEntity>\u001b[0m\u001b[38;5;159m. idx: \u001b[38;5;121m1\u001b[0m\u001b[38;5;159m, uid: \u001b[38;5;121m\u001b[3m<694ab09>\u001b[0m\u001b[38;5;159m, morph: \u001b[38;5;121m<gs.morphs.MJCF(file='C:\\Users\\ritwi\\Desktop\\total_robotics\\genesis_AI_sims\\Unitree_Go2\\xml\\Unitree_Go2\\go2.xml')>\u001b[0m\u001b[38;5;159m, material: \u001b[38;5;121m<gs.materials.Rigid>\u001b[0m\u001b[38;5;159m.\u001b[0m\n",
      "\u001b[38;5;226m[Genesis] [10:12:32] [WARNING] (MJCF) Friction loss at DoF-level not supported.\u001b[0m\n",
      "\u001b[38;5;226m[Genesis] [10:12:32] [WARNING] (MJCF) Joint Coulomb friction not supported.\u001b[0m\n",
      "\u001b[38;5;226m[Genesis] [10:12:32] [WARNING] (MJCF) Friction loss at DoF-level not supported.\u001b[0m\n",
      "\u001b[38;5;226m[Genesis] [10:12:32] [WARNING] (MJCF) Joint Coulomb friction not supported.\u001b[0m\n",
      "\u001b[38;5;226m[Genesis] [10:12:32] [WARNING] (MJCF) Friction loss at DoF-level not supported.\u001b[0m\n",
      "\u001b[38;5;226m[Genesis] [10:12:32] [WARNING] (MJCF) Joint Coulomb friction not supported.\u001b[0m\n",
      "\u001b[38;5;226m[Genesis] [10:12:32] [WARNING] (MJCF) Friction loss at DoF-level not supported.\u001b[0m\n",
      "\u001b[38;5;226m[Genesis] [10:12:32] [WARNING] (MJCF) Joint Coulomb friction not supported.\u001b[0m\n",
      "\u001b[38;5;226m[Genesis] [10:12:32] [WARNING] (MJCF) Friction loss at DoF-level not supported.\u001b[0m\n",
      "\u001b[38;5;226m[Genesis] [10:12:32] [WARNING] (MJCF) Joint Coulomb friction not supported.\u001b[0m\n",
      "\u001b[38;5;226m[Genesis] [10:12:32] [WARNING] (MJCF) Friction loss at DoF-level not supported.\u001b[0m\n",
      "\u001b[38;5;226m[Genesis] [10:12:32] [WARNING] (MJCF) Joint Coulomb friction not supported.\u001b[0m\n",
      "\u001b[38;5;226m[Genesis] [10:12:32] [WARNING] (MJCF) Friction loss at DoF-level not supported.\u001b[0m\n",
      "\u001b[38;5;226m[Genesis] [10:12:32] [WARNING] (MJCF) Joint Coulomb friction not supported.\u001b[0m\n",
      "\u001b[38;5;226m[Genesis] [10:12:32] [WARNING] (MJCF) Friction loss at DoF-level not supported.\u001b[0m\n",
      "\u001b[38;5;226m[Genesis] [10:12:32] [WARNING] (MJCF) Joint Coulomb friction not supported.\u001b[0m\n",
      "\u001b[38;5;226m[Genesis] [10:12:32] [WARNING] (MJCF) Friction loss at DoF-level not supported.\u001b[0m\n",
      "\u001b[38;5;226m[Genesis] [10:12:32] [WARNING] (MJCF) Joint Coulomb friction not supported.\u001b[0m\n",
      "\u001b[38;5;226m[Genesis] [10:12:32] [WARNING] (MJCF) Friction loss at DoF-level not supported.\u001b[0m\n",
      "\u001b[38;5;226m[Genesis] [10:12:32] [WARNING] (MJCF) Joint Coulomb friction not supported.\u001b[0m\n",
      "\u001b[38;5;226m[Genesis] [10:12:32] [WARNING] (MJCF) Friction loss at DoF-level not supported.\u001b[0m\n",
      "\u001b[38;5;226m[Genesis] [10:12:32] [WARNING] (MJCF) Joint Coulomb friction not supported.\u001b[0m\n",
      "\u001b[38;5;226m[Genesis] [10:12:32] [WARNING] (MJCF) Friction loss at DoF-level not supported.\u001b[0m\n",
      "\u001b[38;5;226m[Genesis] [10:12:32] [WARNING] (MJCF) Joint Coulomb friction not supported.\u001b[0m\n",
      "\u001b[38;5;159m[Genesis] [10:12:33] [INFO] Building scene \u001b[38;5;121m\u001b[3m<55f34b1>\u001b[0m\u001b[38;5;159m...\u001b[0m\n",
      "\u001b[38;5;226m[Genesis] [10:12:36] [WARNING] Reference robot position exceeds joint limits.\u001b[0m\n",
      "\u001b[38;5;159m[Genesis] [10:12:43] [INFO] Compiling simulation kernels...\u001b[0m\n",
      "\u001b[38;5;159m[Genesis] [10:13:15] [INFO] Building visualizer...\u001b[0m\n",
      "\u001b[38;5;159m[Genesis] [10:13:27] [INFO] Viewer created. Resolution: \u001b[38;5;121m900×675\u001b[0m\u001b[38;5;159m, max_FPS: \u001b[38;5;121m60\u001b[0m\u001b[38;5;159m.\u001b[0m\n"
     ]
    }
   ],
   "source": [
    "# Reference\n",
    "# https://genesis-world.readthedocs.io/en/latest/user_guide/getting_started/control_your_robot.html#joint-control\n",
    "# Figuring out the interface to the joints Go2\n",
    "import genesis as gs\n",
    "\n",
    "#Initializes Genesis with the CPU backend.\n",
    "gs.init(backend=gs.cpu)\n",
    "\n",
    "#Create a Scene\n",
    "scene = gs.Scene(show_viewer=True)\n",
    "\n",
    "#Adds a flat ground plane to the scene.\n",
    "plane = scene.add_entity(gs.morphs.Plane())\n",
    "\n",
    "#Integrate the Go2 Robot xml.\n",
    "#robot = gs.morphs.MJCF(file='xml/franka_emika_panda/panda.xml')\n",
    "robot = gs.morphs.MJCF(file=\"xml/Unitree_Go2/go2.xml\")\n",
    "\n",
    "\n",
    "#Add an entity to the scene.\n",
    "Go2 = scene.add_entity(robot)\n",
    "\n",
    "#Builds the scene.\n",
    "scene.build()"
   ]
  },
  {
   "cell_type": "code",
   "execution_count": 2,
   "id": "8300fa5d-aaf7-43c8-9582-45404b6d777e",
   "metadata": {},
   "outputs": [
    {
     "name": "stdout",
     "output_type": "stream",
     "text": [
      "\u001b[38;5;226m[Genesis] [10:18:29] [WARNING] This property is deprecated and will be removed in future release. Please use 'dof_idx_local' instead.\u001b[0m\n",
      "\u001b[38;5;226m[Genesis] [10:18:29] [WARNING] This property is deprecated and will be removed in future release. Please use 'dof_idx_local' instead.\u001b[0m\n",
      "\u001b[38;5;226m[Genesis] [10:18:29] [WARNING] This property is deprecated and will be removed in future release. Please use 'dof_idx_local' instead.\u001b[0m\n",
      "\u001b[38;5;226m[Genesis] [10:18:29] [WARNING] This property is deprecated and will be removed in future release. Please use 'dof_idx_local' instead.\u001b[0m\n",
      "\u001b[38;5;226m[Genesis] [10:18:29] [WARNING] This property is deprecated and will be removed in future release. Please use 'dof_idx_local' instead.\u001b[0m\n",
      "\u001b[38;5;226m[Genesis] [10:18:29] [WARNING] This property is deprecated and will be removed in future release. Please use 'dof_idx_local' instead.\u001b[0m\n",
      "\u001b[38;5;226m[Genesis] [10:18:29] [WARNING] This property is deprecated and will be removed in future release. Please use 'dof_idx_local' instead.\u001b[0m\n",
      "\u001b[38;5;226m[Genesis] [10:18:29] [WARNING] This property is deprecated and will be removed in future release. Please use 'dof_idx_local' instead.\u001b[0m\n",
      "\u001b[38;5;226m[Genesis] [10:18:29] [WARNING] This property is deprecated and will be removed in future release. Please use 'dof_idx_local' instead.\u001b[0m\n",
      "\u001b[38;5;226m[Genesis] [10:18:29] [WARNING] This property is deprecated and will be removed in future release. Please use 'dof_idx_local' instead.\u001b[0m\n",
      "\u001b[38;5;226m[Genesis] [10:18:29] [WARNING] This property is deprecated and will be removed in future release. Please use 'dof_idx_local' instead.\u001b[0m\n",
      "\u001b[38;5;226m[Genesis] [10:18:29] [WARNING] This property is deprecated and will be removed in future release. Please use 'dof_idx_local' instead.\u001b[0m\n",
      "[[0, 1, 2, 3, 4, 5], 10, 14, 7, 11, 15, 8, 12, 16, 9, 13, 17]\n"
     ]
    }
   ],
   "source": [
    "# Getting the joint Info Go2\n",
    "jnt_names = [\n",
    "    'FL_hip_joint',\n",
    "    'FL_thigh_joint',\n",
    "    'FL_calf_joint',\n",
    "    'FR_hip_joint',\n",
    "    'FR_thigh_joint',\n",
    "    'FR_calf_joint',\n",
    "    'RL_hip_joint',\n",
    "    'RL_thigh_joint',\n",
    "    'RL_calf_joint',\n",
    "    'RR_hip_joint',\n",
    "    'RR_thigh_joint',\n",
    "    'RR_calf_joint', \n",
    "]\n",
    "dofs_idx = [Go2.get_joint(name).dof_idx_local for name in jnt_names]\n",
    "print(dofs_idx)"
   ]
  },
  {
   "cell_type": "code",
   "execution_count": 3,
   "id": "981033a5-34c8-4de6-a5d4-f253e9b5d83e",
   "metadata": {},
   "outputs": [
    {
     "ename": "ValueError",
     "evalue": "setting an array element with a sequence. The requested array has an inhomogeneous shape after 1 dimensions. The detected shape was (12,) + inhomogeneous part.",
     "output_type": "error",
     "traceback": [
      "\u001b[1;31m---------------------------------------------------------------------------\u001b[0m",
      "\u001b[1;31mValueError\u001b[0m                                Traceback (most recent call last)",
      "Cell \u001b[1;32mIn[3], line 5\u001b[0m\n\u001b[0;32m      3\u001b[0m \u001b[38;5;28;01mfor\u001b[39;00m i \u001b[38;5;129;01min\u001b[39;00m \u001b[38;5;28mrange\u001b[39m(\u001b[38;5;241m150\u001b[39m):\n\u001b[0;32m      4\u001b[0m     \u001b[38;5;28;01mif\u001b[39;00m i \u001b[38;5;241m<\u001b[39m \u001b[38;5;241m50\u001b[39m:\n\u001b[1;32m----> 5\u001b[0m         Go2\u001b[38;5;241m.\u001b[39mset_dofs_position(\u001b[43mnp\u001b[49m\u001b[38;5;241;43m.\u001b[39;49m\u001b[43marray\u001b[49m\u001b[43m(\u001b[49m\u001b[43m[\u001b[49m\u001b[43m[\u001b[49m\u001b[38;5;241;43m0\u001b[39;49m\u001b[43m,\u001b[49m\u001b[43m \u001b[49m\u001b[38;5;241;43m0\u001b[39;49m\u001b[43m,\u001b[49m\u001b[43m \u001b[49m\u001b[38;5;241;43m0\u001b[39;49m\u001b[43m,\u001b[49m\u001b[43m \u001b[49m\u001b[38;5;241;43m0\u001b[39;49m\u001b[43m,\u001b[49m\u001b[43m \u001b[49m\u001b[38;5;241;43m0\u001b[39;49m\u001b[43m,\u001b[49m\u001b[43m \u001b[49m\u001b[38;5;241;43m0\u001b[39;49m\u001b[43m]\u001b[49m\u001b[43m,\u001b[49m\u001b[43m \u001b[49m\u001b[38;5;241;43m0\u001b[39;49m\u001b[43m,\u001b[49m\u001b[43m \u001b[49m\u001b[38;5;241;43m0\u001b[39;49m\u001b[43m,\u001b[49m\u001b[43m \u001b[49m\u001b[38;5;241;43m0\u001b[39;49m\u001b[43m,\u001b[49m\u001b[43m \u001b[49m\u001b[38;5;241;43m0\u001b[39;49m\u001b[43m,\u001b[49m\u001b[43m \u001b[49m\u001b[38;5;241;43m0\u001b[39;49m\u001b[43m,\u001b[49m\u001b[43m \u001b[49m\u001b[38;5;241;43m0\u001b[39;49m\u001b[43m,\u001b[49m\u001b[43m \u001b[49m\u001b[38;5;241;43m0\u001b[39;49m\u001b[43m,\u001b[49m\u001b[43m \u001b[49m\u001b[38;5;241;43m0\u001b[39;49m\u001b[43m,\u001b[49m\u001b[43m \u001b[49m\u001b[38;5;241;43m0\u001b[39;49m\u001b[43m,\u001b[49m\u001b[43m \u001b[49m\u001b[38;5;241;43m0\u001b[39;49m\u001b[43m,\u001b[49m\u001b[43m \u001b[49m\u001b[38;5;241;43m0\u001b[39;49m\u001b[43m]\u001b[49m\u001b[43m)\u001b[49m, dofs_idx)\n\u001b[0;32m      6\u001b[0m     \u001b[38;5;28;01melif\u001b[39;00m i \u001b[38;5;241m<\u001b[39m \u001b[38;5;241m100\u001b[39m:\n\u001b[0;32m      7\u001b[0m         Go2\u001b[38;5;241m.\u001b[39mset_dofs_position(np\u001b[38;5;241m.\u001b[39marray([[\u001b[38;5;241m1\u001b[39m, \u001b[38;5;241m1\u001b[39m, \u001b[38;5;241m1\u001b[39m, \u001b[38;5;241m1\u001b[39m, \u001b[38;5;241m1\u001b[39m, \u001b[38;5;241m1\u001b[39m], \u001b[38;5;241m1\u001b[39m, \u001b[38;5;241m1\u001b[39m, \u001b[38;5;241m1\u001b[39m, \u001b[38;5;241m1\u001b[39m, \u001b[38;5;241m1\u001b[39m, \u001b[38;5;241m1\u001b[39m, \u001b[38;5;241m1\u001b[39m, \u001b[38;5;241m1\u001b[39m, \u001b[38;5;241m1\u001b[39m, \u001b[38;5;241m1\u001b[39m, \u001b[38;5;241m1\u001b[39m]), dofs_idx)\n",
      "\u001b[1;31mValueError\u001b[0m: setting an array element with a sequence. The requested array has an inhomogeneous shape after 1 dimensions. The detected shape was (12,) + inhomogeneous part."
     ]
    }
   ],
   "source": [
    "# Hard reset\n",
    "import numpy as np\n",
    "for i in range(150):\n",
    "    if i < 50:\n",
    "        Go2.set_dofs_position(np.array([[0, 0, 0, 0, 0, 0], 0, 0, 0, 0, 0, 0, 0, 0, 0, 0, 0]), dofs_idx)\n",
    "    elif i < 100:\n",
    "        Go2.set_dofs_position(np.array([[1, 1, 1, 1, 1, 1], 1, 1, 1, 1, 1, 1, 1, 1, 1, 1, 1]), dofs_idx)\n",
    "    else:\n",
    "        Go2.set_dofs_position(np.array([[2, 2, 2, 2, 2, 2], 2, 2, 2, 2, 2, 2, 2, 2, 2, 2, 2]), dofs_idx)\n",
    "\n",
    "    scene.step()"
   ]
  },
  {
   "cell_type": "code",
   "execution_count": 5,
   "id": "7e397cdc-0fab-4678-8d40-9160e00b6ff3",
   "metadata": {},
   "outputs": [
    {
     "ename": "TypeError",
     "evalue": "can only concatenate list (not \"int\") to list",
     "output_type": "error",
     "traceback": [
      "\u001b[1;31m---------------------------------------------------------------------------\u001b[0m",
      "\u001b[1;31mTypeError\u001b[0m                                 Traceback (most recent call last)",
      "Cell \u001b[1;32mIn[5], line 5\u001b[0m\n\u001b[0;32m      3\u001b[0m \u001b[38;5;28;01mfor\u001b[39;00m i \u001b[38;5;129;01min\u001b[39;00m \u001b[38;5;28mrange\u001b[39m(\u001b[38;5;241m150\u001b[39m):\n\u001b[0;32m      4\u001b[0m     \u001b[38;5;28;01mif\u001b[39;00m i \u001b[38;5;241m<\u001b[39m \u001b[38;5;241m50\u001b[39m:\n\u001b[1;32m----> 5\u001b[0m         \u001b[43mGo2\u001b[49m\u001b[38;5;241;43m.\u001b[39;49m\u001b[43mset_dofs_position\u001b[49m\u001b[43m(\u001b[49m\u001b[43mnp\u001b[49m\u001b[38;5;241;43m.\u001b[39;49m\u001b[43marray\u001b[49m\u001b[43m(\u001b[49m\u001b[43m[\u001b[49m\u001b[38;5;241;43m0\u001b[39;49m\u001b[43m,\u001b[49m\u001b[43m \u001b[49m\u001b[38;5;241;43m0\u001b[39;49m\u001b[43m,\u001b[49m\u001b[43m \u001b[49m\u001b[38;5;241;43m0\u001b[39;49m\u001b[43m,\u001b[49m\u001b[43m \u001b[49m\u001b[38;5;241;43m0\u001b[39;49m\u001b[43m,\u001b[49m\u001b[43m \u001b[49m\u001b[38;5;241;43m0\u001b[39;49m\u001b[43m,\u001b[49m\u001b[43m \u001b[49m\u001b[38;5;241;43m0\u001b[39;49m\u001b[43m,\u001b[49m\u001b[43m \u001b[49m\u001b[38;5;241;43m0\u001b[39;49m\u001b[43m,\u001b[49m\u001b[43m \u001b[49m\u001b[38;5;241;43m0\u001b[39;49m\u001b[43m,\u001b[49m\u001b[43m \u001b[49m\u001b[38;5;241;43m0\u001b[39;49m\u001b[43m,\u001b[49m\u001b[43m \u001b[49m\u001b[38;5;241;43m0\u001b[39;49m\u001b[43m,\u001b[49m\u001b[43m \u001b[49m\u001b[38;5;241;43m0\u001b[39;49m\u001b[43m,\u001b[49m\u001b[43m \u001b[49m\u001b[38;5;241;43m0\u001b[39;49m\u001b[43m]\u001b[49m\u001b[43m)\u001b[49m\u001b[43m,\u001b[49m\u001b[43m \u001b[49m\u001b[43mdofs_idx\u001b[49m\u001b[43m)\u001b[49m\n\u001b[0;32m      6\u001b[0m     \u001b[38;5;28;01melif\u001b[39;00m i \u001b[38;5;241m<\u001b[39m \u001b[38;5;241m100\u001b[39m:\n\u001b[0;32m      7\u001b[0m         Go2\u001b[38;5;241m.\u001b[39mset_dofs_position(np\u001b[38;5;241m.\u001b[39marray([\u001b[38;5;241m1\u001b[39m, \u001b[38;5;241m1\u001b[39m, \u001b[38;5;241m1\u001b[39m, \u001b[38;5;241m1\u001b[39m, \u001b[38;5;241m1\u001b[39m, \u001b[38;5;241m1\u001b[39m, \u001b[38;5;241m1\u001b[39m, \u001b[38;5;241m1\u001b[39m, \u001b[38;5;241m1\u001b[39m, \u001b[38;5;241m1\u001b[39m, \u001b[38;5;241m1\u001b[39m, \u001b[38;5;241m1\u001b[39m]), dofs_idx)\n",
      "File \u001b[1;32m~\\Genesis\\genesis\\utils\\misc.py:72\u001b[0m, in \u001b[0;36massert_built.<locals>.wrapper\u001b[1;34m(self, *args, **kwargs)\u001b[0m\n\u001b[0;32m     70\u001b[0m \u001b[38;5;28;01mif\u001b[39;00m \u001b[38;5;129;01mnot\u001b[39;00m \u001b[38;5;28mself\u001b[39m\u001b[38;5;241m.\u001b[39mis_built:\n\u001b[0;32m     71\u001b[0m     gs\u001b[38;5;241m.\u001b[39mraise_exception(\u001b[38;5;124m\"\u001b[39m\u001b[38;5;124mScene is not built yet.\u001b[39m\u001b[38;5;124m\"\u001b[39m)\n\u001b[1;32m---> 72\u001b[0m \u001b[38;5;28;01mreturn\u001b[39;00m method(\u001b[38;5;28mself\u001b[39m, \u001b[38;5;241m*\u001b[39margs, \u001b[38;5;241m*\u001b[39m\u001b[38;5;241m*\u001b[39mkwargs)\n",
      "File \u001b[1;32m~\\Genesis\\genesis\\engine\\entities\\rigid_entity\\rigid_entity.py:2144\u001b[0m, in \u001b[0;36mRigidEntity.set_dofs_position\u001b[1;34m(self, position, dofs_idx_local, envs_idx, zero_velocity, unsafe)\u001b[0m\n\u001b[0;32m   2128\u001b[0m \u001b[38;5;129m@gs\u001b[39m\u001b[38;5;241m.\u001b[39massert_built\n\u001b[0;32m   2129\u001b[0m \u001b[38;5;28;01mdef\u001b[39;00m\u001b[38;5;250m \u001b[39m\u001b[38;5;21mset_dofs_position\u001b[39m(\u001b[38;5;28mself\u001b[39m, position, dofs_idx_local\u001b[38;5;241m=\u001b[39m\u001b[38;5;28;01mNone\u001b[39;00m, envs_idx\u001b[38;5;241m=\u001b[39m\u001b[38;5;28;01mNone\u001b[39;00m, \u001b[38;5;241m*\u001b[39m, zero_velocity\u001b[38;5;241m=\u001b[39m\u001b[38;5;28;01mTrue\u001b[39;00m, unsafe\u001b[38;5;241m=\u001b[39m\u001b[38;5;28;01mFalse\u001b[39;00m):\n\u001b[0;32m   2130\u001b[0m \u001b[38;5;250m    \u001b[39m\u001b[38;5;124;03m\"\"\"\u001b[39;00m\n\u001b[0;32m   2131\u001b[0m \u001b[38;5;124;03m    Set the entity's dofs' position.\u001b[39;00m\n\u001b[0;32m   2132\u001b[0m \n\u001b[1;32m   (...)\u001b[0m\n\u001b[0;32m   2142\u001b[0m \u001b[38;5;124;03m        Whether to zero the velocity of all the entity's dofs. Defaults to True. This is a safety measure after a sudden change in entity pose.\u001b[39;00m\n\u001b[0;32m   2143\u001b[0m \u001b[38;5;124;03m    \"\"\"\u001b[39;00m\n\u001b[1;32m-> 2144\u001b[0m     dofs_idx \u001b[38;5;241m=\u001b[39m \u001b[38;5;28;43mself\u001b[39;49m\u001b[38;5;241;43m.\u001b[39;49m\u001b[43m_get_idx\u001b[49m\u001b[43m(\u001b[49m\u001b[43mdofs_idx_local\u001b[49m\u001b[43m,\u001b[49m\u001b[43m \u001b[49m\u001b[38;5;28;43mself\u001b[39;49m\u001b[38;5;241;43m.\u001b[39;49m\u001b[43mn_dofs\u001b[49m\u001b[43m,\u001b[49m\u001b[43m \u001b[49m\u001b[38;5;28;43mself\u001b[39;49m\u001b[38;5;241;43m.\u001b[39;49m\u001b[43m_dof_start\u001b[49m\u001b[43m,\u001b[49m\u001b[43m \u001b[49m\u001b[43munsafe\u001b[49m\u001b[38;5;241;43m=\u001b[39;49m\u001b[38;5;28;43;01mTrue\u001b[39;49;00m\u001b[43m)\u001b[49m\n\u001b[0;32m   2145\u001b[0m     \u001b[38;5;28mself\u001b[39m\u001b[38;5;241m.\u001b[39m_solver\u001b[38;5;241m.\u001b[39mset_dofs_position(position, dofs_idx, envs_idx, unsafe\u001b[38;5;241m=\u001b[39munsafe, skip_forward\u001b[38;5;241m=\u001b[39mzero_velocity)\n\u001b[0;32m   2146\u001b[0m     \u001b[38;5;28;01mif\u001b[39;00m zero_velocity:\n",
      "File \u001b[1;32m~\\Genesis\\genesis\\engine\\entities\\rigid_entity\\rigid_entity.py:1992\u001b[0m, in \u001b[0;36mRigidEntity._get_idx\u001b[1;34m(self, idx_local, idx_local_max, idx_global_start, unsafe)\u001b[0m\n\u001b[0;32m   1990\u001b[0m     idx_global \u001b[38;5;241m=\u001b[39m idx_local \u001b[38;5;241m+\u001b[39m idx_global_start\n\u001b[0;32m   1991\u001b[0m \u001b[38;5;28;01melif\u001b[39;00m \u001b[38;5;28misinstance\u001b[39m(idx_local, (\u001b[38;5;28mlist\u001b[39m, \u001b[38;5;28mtuple\u001b[39m)):\n\u001b[1;32m-> 1992\u001b[0m     idx_global \u001b[38;5;241m=\u001b[39m [i \u001b[38;5;241m+\u001b[39m idx_global_start \u001b[38;5;28;01mfor\u001b[39;00m i \u001b[38;5;129;01min\u001b[39;00m idx_local]\n\u001b[0;32m   1993\u001b[0m \u001b[38;5;28;01melse\u001b[39;00m:\n\u001b[0;32m   1994\u001b[0m     \u001b[38;5;66;03m# Increment may be slow when dealing with heterogenuous data, so it must be avoided if possible\u001b[39;00m\n\u001b[0;32m   1995\u001b[0m     \u001b[38;5;28;01mif\u001b[39;00m idx_global_start \u001b[38;5;241m>\u001b[39m \u001b[38;5;241m0\u001b[39m:\n",
      "File \u001b[1;32m~\\Genesis\\genesis\\engine\\entities\\rigid_entity\\rigid_entity.py:1992\u001b[0m, in \u001b[0;36m<listcomp>\u001b[1;34m(.0)\u001b[0m\n\u001b[0;32m   1990\u001b[0m     idx_global \u001b[38;5;241m=\u001b[39m idx_local \u001b[38;5;241m+\u001b[39m idx_global_start\n\u001b[0;32m   1991\u001b[0m \u001b[38;5;28;01melif\u001b[39;00m \u001b[38;5;28misinstance\u001b[39m(idx_local, (\u001b[38;5;28mlist\u001b[39m, \u001b[38;5;28mtuple\u001b[39m)):\n\u001b[1;32m-> 1992\u001b[0m     idx_global \u001b[38;5;241m=\u001b[39m [\u001b[43mi\u001b[49m\u001b[43m \u001b[49m\u001b[38;5;241;43m+\u001b[39;49m\u001b[43m \u001b[49m\u001b[43midx_global_start\u001b[49m \u001b[38;5;28;01mfor\u001b[39;00m i \u001b[38;5;129;01min\u001b[39;00m idx_local]\n\u001b[0;32m   1993\u001b[0m \u001b[38;5;28;01melse\u001b[39;00m:\n\u001b[0;32m   1994\u001b[0m     \u001b[38;5;66;03m# Increment may be slow when dealing with heterogenuous data, so it must be avoided if possible\u001b[39;00m\n\u001b[0;32m   1995\u001b[0m     \u001b[38;5;28;01mif\u001b[39;00m idx_global_start \u001b[38;5;241m>\u001b[39m \u001b[38;5;241m0\u001b[39m:\n",
      "\u001b[1;31mTypeError\u001b[0m: can only concatenate list (not \"int\") to list"
     ]
    }
   ],
   "source": [
    "# Hard reset\n",
    "import numpy as np\n",
    "for i in range(150):\n",
    "    if i < 50:\n",
    "        Go2.set_dofs_position(np.array([0, 0, 0, 0, 0, 0, 0, 0, 0, 0, 0, 0]), dofs_idx)\n",
    "    elif i < 100:\n",
    "        Go2.set_dofs_position(np.array([1, 1, 1, 1, 1, 1, 1, 1, 1, 1, 1, 1]), dofs_idx)\n",
    "    else:\n",
    "        Go2.set_dofs_position(np.array([2, 2, 2, 2, 2, 2, 2, 2, 2, 2, 2, 2]), dofs_idx)\n",
    "\n",
    "    scene.step()"
   ]
  },
  {
   "cell_type": "code",
   "execution_count": null,
   "id": "f7ecc746-ddea-481f-bf65-c326aecaaf4b",
   "metadata": {},
   "outputs": [],
   "source": []
  }
 ],
 "metadata": {
  "kernelspec": {
   "display_name": "Python 3 (ipykernel)",
   "language": "python",
   "name": "python3"
  },
  "language_info": {
   "codemirror_mode": {
    "name": "ipython",
    "version": 3
   },
   "file_extension": ".py",
   "mimetype": "text/x-python",
   "name": "python",
   "nbconvert_exporter": "python",
   "pygments_lexer": "ipython3",
   "version": "3.10.16"
  }
 },
 "nbformat": 4,
 "nbformat_minor": 5
}
